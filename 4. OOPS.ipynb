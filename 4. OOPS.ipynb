{
 "cells": [
  {
   "cell_type": "markdown",
   "metadata": {},
   "source": [
    "Q1. Explain Class and Object with respect to Object-Oriented Programming:\n",
    "- Class: In object-oriented programming (OOP), a class is a blueprint for creating objects. It defines the properties (attributes) and behaviors (methods) that all objects of the class will have. A class serves as a template for creating multiple objects with similar characteristics.\n",
    "\n",
    "- Object: An object is an instance of a class. It is a concrete entity that exists in memory and has its own set of attributes and methods defined by its class. Objects represent the real-world entities modeled by the class."
   ]
  },
  {
   "cell_type": "code",
   "execution_count": 1,
   "metadata": {},
   "outputs": [
    {
     "name": "stdout",
     "output_type": "stream",
     "text": [
      "Buddy\n",
      "German Shepherd\n",
      "Buddy barks!\n"
     ]
    }
   ],
   "source": [
    "# Class definition\n",
    "class Dog:\n",
    "    def __init__(self, name, breed):\n",
    "        self.name = name\n",
    "        self.breed = breed\n",
    "    \n",
    "    def bark(self):\n",
    "        print(f\"{self.name} barks!\")\n",
    "\n",
    "# Creating objects (instances) of the class Dog\n",
    "dog1 = Dog(\"Buddy\", \"Labrador\")\n",
    "dog2 = Dog(\"Max\", \"German Shepherd\")\n",
    "\n",
    "# Accessing attributes and calling methods of objects\n",
    "print(dog1.name)  # Output: Buddy\n",
    "print(dog2.breed)  # Output: German Shepherd\n",
    "dog1.bark()  # Output: Buddy barks!\n"
   ]
  },
  {
   "cell_type": "markdown",
   "metadata": {},
   "source": [
    "Q2. Name the four pillars of OOPs:\n",
    "The four pillars of object-oriented programming (OOP) are:\n",
    "\n",
    "1) Encapsulation: It refers to the bundling of data (attributes) and methods that operate on that data into a single unit called a class. Encapsulation hides the internal state of objects and restricts direct access to them from outside the class.\n",
    "\n",
    "2) Abstraction: Abstraction involves hiding the complex implementation details of a class and showing only the essential features of the object. It allows users to interact with objects at a higher level of abstraction without needing to understand their internal workings.\n",
    "\n",
    "3) Inheritance: Inheritance is a mechanism by which a new class (subclass) can inherit properties and behaviors from an existing class (superclass). It promotes code reuse and establishes a hierarchy of classes.\n",
    "\n",
    "4) Polymorphism: Polymorphism allows objects of different classes to be treated as objects of a common superclass. It enables a single interface to be used for entities of different types and ensures that the correct method is called based on the object's type or class."
   ]
  },
  {
   "cell_type": "markdown",
   "metadata": {},
   "source": [
    "Q3. Explain why the init() function is used. Give a suitable example:\n",
    "- The __init__() function is a special method in Python classes used for initializing newly created objects. It is called automatically when a new object is created.\n",
    "\n",
    "- The primary purpose of __init__() is to initialize the attributes of an object with values passed as arguments during object creation."
   ]
  },
  {
   "cell_type": "code",
   "execution_count": 2,
   "metadata": {},
   "outputs": [
    {
     "name": "stdout",
     "output_type": "stream",
     "text": [
      "Toyota\n",
      "Camry\n"
     ]
    }
   ],
   "source": [
    "class Car:\n",
    "    def __init__(self, brand, model):\n",
    "        self.brand = brand\n",
    "        self.model = model\n",
    "\n",
    "# Creating an object of the class Car\n",
    "my_car = Car(\"Toyota\", \"Camry\")\n",
    "\n",
    "print(my_car.brand)  # Output: Toyota\n",
    "print(my_car.model)  # Output: Camry\n"
   ]
  },
  {
   "cell_type": "markdown",
   "metadata": {},
   "source": [
    "Q4. Why self is used in OOPs?\n",
    "- In object-oriented programming, self is a reference to the current instance of the class. It is a convention used in Python to access attributes and methods within the class.\n",
    "\n",
    "- When you call a method on an object, Python automatically passes the object itself as the first argument to the method. By convention, this argument is named self, but you can use any name.\n",
    "\n",
    "- Using self, you can access attributes and call methods of the current object within the class."
   ]
  },
  {
   "cell_type": "markdown",
   "metadata": {},
   "source": [
    "Q5. What is inheritance? Give an example for each type of inheritance:\n",
    "- Inheritance is a fundamental concept in object-oriented programming that allows a new class (subclass) to inherit properties and behaviors from an existing class (superclass). It promotes code reuse and establishes a hierarchy of classes."
   ]
  },
  {
   "cell_type": "code",
   "execution_count": 3,
   "metadata": {},
   "outputs": [
    {
     "name": "stdout",
     "output_type": "stream",
     "text": [
      "Animal speaks\n",
      "Dog barks\n",
      "Method A\n",
      "Method B\n",
      "Method X\n",
      "Method Y\n",
      "Parent class method\n",
      "Parent class method\n"
     ]
    }
   ],
   "source": [
    "# Single Inheritance\n",
    "class Animal:\n",
    "    def speak(self):\n",
    "        print(\"Animal speaks\")\n",
    "\n",
    "class Dog(Animal):\n",
    "    def bark(self):\n",
    "        print(\"Dog barks\")\n",
    "\n",
    "dog = Dog()\n",
    "dog.speak()  # Output: Animal speaks\n",
    "dog.bark()   # Output: Dog barks\n",
    "\n",
    "# Multiple Inheritance\n",
    "class A:\n",
    "    def method_A(self):\n",
    "        print(\"Method A\")\n",
    "\n",
    "class B:\n",
    "    def method_B(self):\n",
    "        print(\"Method B\")\n",
    "\n",
    "class C(A, B):\n",
    "    pass\n",
    "\n",
    "obj_c = C()\n",
    "obj_c.method_A()  # Output: Method A\n",
    "obj_c.method_B()  # Output: Method B\n",
    "\n",
    "# Multilevel Inheritance\n",
    "class X:\n",
    "    def method_X(self):\n",
    "        print(\"Method X\")\n",
    "\n",
    "class Y(X):\n",
    "    def method_Y(self):\n",
    "        print(\"Method Y\")\n",
    "\n",
    "class Z(Y):\n",
    "    pass\n",
    "\n",
    "obj_z = Z()\n",
    "obj_z.method_X()  # Output: Method X\n",
    "obj_z.method_Y()  # Output: Method Y\n",
    "\n",
    "# Hierarchical Inheritance\n",
    "class Parent:\n",
    "    def common(self):\n",
    "        print(\"Parent class method\")\n",
    "\n",
    "class Child1(Parent):\n",
    "    def method1(self):\n",
    "        print(\"Method 1\")\n",
    "\n",
    "class Child2(Parent):\n",
    "    def method2(self):\n",
    "        print(\"Method 2\")\n",
    "\n",
    "child1 = Child1()\n",
    "child2 = Child2()\n",
    "\n",
    "child1.common()  # Output: Parent class method\n",
    "child2.common()  # Output: Parent class method\n"
   ]
  }
 ],
 "metadata": {
  "kernelspec": {
   "display_name": "Python 3",
   "language": "python",
   "name": "python3"
  },
  "language_info": {
   "codemirror_mode": {
    "name": "ipython",
    "version": 3
   },
   "file_extension": ".py",
   "mimetype": "text/x-python",
   "name": "python",
   "nbconvert_exporter": "python",
   "pygments_lexer": "ipython3",
   "version": "3.10.11"
  }
 },
 "nbformat": 4,
 "nbformat_minor": 2
}
